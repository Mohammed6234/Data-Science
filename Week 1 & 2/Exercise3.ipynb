{
 "cells": [
  {
   "cell_type": "code",
   "execution_count": null,
   "metadata": {},
   "outputs": [],
   "source": [
    "# Exercise\n",
    "# 1. You have a football field that is 92 meter long and 48.8 meter wide. Find out total\n",
    "#    area using python and print it\n",
    "length=92\n",
    "width=48.8\n",
    "area=length*width\n",
    "print(\"The area is \",area)\n",
    "\n",
    "# 2. You bought 9 packets of potato chips from a store. Each packet costs 1.49 dollar\n",
    "#    and you gave shopkeeper 20 dollar.\n",
    "#    Find out using python, how many dollars is the shopkeeper going to give you back?\n",
    "num_packets=9\n",
    "cost_per_packet=1.49\n",
    "total_cost=num_packets*cost_per_packet\n",
    "money_paid=20\n",
    "cash_back=money_paid-total_cost\n",
    "print(\"Cash back is \",cash_back) \n",
    "\n",
    "# 3. You want to replace tiles in your bathroom which is exactly square and 5.5 feet\n",
    "#    is its length. If tiles cost 500 rs per square feet, how much will be the total\n",
    "#    cost to replace all tiles. Calculate and print the cost using python\n",
    "#    Hint: Use power operator (**) to find area of a square\n",
    "length=5.5\n",
    "area=length**2 # area of square is length power 2\n",
    "cost=area*500\n",
    "print(\"Total cost is \",cost) \n",
    "\n",
    "# 4. Print binary representation of number 17\n",
    "num=17\n",
    "print('The binary representation of number 17 is ',format(num,'b')) "
   ]
  }
 ],
 "metadata": {
  "language_info": {
   "name": "python"
  },
  "orig_nbformat": 4
 },
 "nbformat": 4,
 "nbformat_minor": 2
}
